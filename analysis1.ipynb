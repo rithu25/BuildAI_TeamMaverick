{
 "cells": [
  {
   "cell_type": "code",
   "execution_count": 94,
   "metadata": {},
   "outputs": [],
   "source": [
    "import pandas as pd\n",
    "import numpy as np\n",
    "import matplotlib.pyplot as plt\n",
    "import seaborn as sns"
   ]
  },
  {
   "cell_type": "code",
   "execution_count": 96,
   "metadata": {},
   "outputs": [],
   "source": [
    "skipr= list(range(1,122))"
   ]
  },
  {
   "cell_type": "code",
   "execution_count": 97,
   "metadata": {},
   "outputs": [],
   "source": [
    "data= pd.read_excel('employment.xlsx',sheet_name='Data1',skiprows=skipr)\n",
    "df=data.copy()"
   ]
  },
  {
   "cell_type": "code",
   "execution_count": 98,
   "metadata": {},
   "outputs": [],
   "source": [
    "df.rename(columns={\"Unnamed: 0\": \"Date\"},inplace=True)"
   ]
  },
  {
   "cell_type": "code",
   "execution_count": null,
   "metadata": {},
   "outputs": [],
   "source": []
  },
  {
   "cell_type": "code",
   "execution_count": null,
   "metadata": {},
   "outputs": [],
   "source": []
  },
  {
   "cell_type": "code",
   "execution_count": 44,
   "metadata": {},
   "outputs": [
    {
     "data": {
      "text/html": [
       "<div>\n",
       "<style scoped>\n",
       "    .dataframe tbody tr th:only-of-type {\n",
       "        vertical-align: middle;\n",
       "    }\n",
       "\n",
       "    .dataframe tbody tr th {\n",
       "        vertical-align: top;\n",
       "    }\n",
       "\n",
       "    .dataframe thead th {\n",
       "        text-align: right;\n",
       "    }\n",
       "</style>\n",
       "<table border=\"1\" class=\"dataframe\">\n",
       "  <thead>\n",
       "    <tr style=\"text-align: right;\">\n",
       "      <th></th>\n",
       "      <th>Date</th>\n",
       "      <th>Managers ;  Employed total ;</th>\n",
       "      <th>Managers ;  &gt; Employed full-time ;</th>\n",
       "      <th>Managers ;  &gt; Employed part-time ;</th>\n",
       "      <th>Managers ;  Number of actual hours worked in all jobs ;</th>\n",
       "      <th>Managers ;  Hours actually worked in all jobs per employed person ;</th>\n",
       "      <th>Managers ;  Worked 1 hour or more ;  Employed total ;</th>\n",
       "      <th>Managers ;  Worked 1 hour or more ;  &gt; Employed full-time ;</th>\n",
       "      <th>Managers ;  Worked 1 hour or more ;  &gt; Employed part-time ;</th>\n",
       "      <th>Managers ;  Worked 1 hour or more ;  Number of actual hours worked in all jobs ;</th>\n",
       "      <th>...</th>\n",
       "      <th>Clerical and Administrative Workers ;  Hours actually worked in all jobs per employed person ;</th>\n",
       "      <th>Clerical and Administrative Workers ;  Worked 1 hour or more ;  Employed total ;</th>\n",
       "      <th>Clerical and Administrative Workers ;  Worked 1 hour or more ;  &gt; Employed full-time ;</th>\n",
       "      <th>Clerical and Administrative Workers ;  Worked 1 hour or more ;  &gt; Employed part-time ;</th>\n",
       "      <th>Clerical and Administrative Workers ;  Worked 1 hour or more ;  Number of actual hours worked in all jobs ;</th>\n",
       "      <th>Clerical and Administrative Workers ;  Worked 1 hour or more ;  Hours actually worked in all jobs per employed person ;</th>\n",
       "      <th>Clerical and Administrative Workers ;  &gt; Worked fewer than 35 hours ;  Employed total ;</th>\n",
       "      <th>Clerical and Administrative Workers ;  &gt; Worked fewer than 35 hours ;  &gt; Employed full-time ;</th>\n",
       "      <th>Clerical and Administrative Workers ;  &gt; Worked fewer than 35 hours ;  &gt; Employed part-time ;</th>\n",
       "      <th>Clerical and Administrative Workers ;  &gt; Worked fewer than 35 hours ;  Number of actual hours worked in all jobs ;</th>\n",
       "    </tr>\n",
       "  </thead>\n",
       "  <tbody>\n",
       "    <tr>\n",
       "      <td>0</td>\n",
       "      <td>1991-02-01</td>\n",
       "      <td>966.567271</td>\n",
       "      <td>838.138327</td>\n",
       "      <td>128.428944</td>\n",
       "      <td>44759.445116</td>\n",
       "      <td>46.307636</td>\n",
       "      <td>923.507601</td>\n",
       "      <td>805.748614</td>\n",
       "      <td>117.758986</td>\n",
       "      <td>44759.445116</td>\n",
       "      <td>...</td>\n",
       "      <td>31.959200</td>\n",
       "      <td>1329.830133</td>\n",
       "      <td>990.570466</td>\n",
       "      <td>339.259667</td>\n",
       "      <td>44742.604154</td>\n",
       "      <td>33.645353</td>\n",
       "      <td>454.998196</td>\n",
       "      <td>115.738529</td>\n",
       "      <td>339.259667</td>\n",
       "      <td>8899.890948</td>\n",
       "    </tr>\n",
       "    <tr>\n",
       "      <td>1</td>\n",
       "      <td>1991-05-01</td>\n",
       "      <td>961.677440</td>\n",
       "      <td>833.802650</td>\n",
       "      <td>127.874790</td>\n",
       "      <td>44024.370803</td>\n",
       "      <td>45.778729</td>\n",
       "      <td>922.943214</td>\n",
       "      <td>802.094945</td>\n",
       "      <td>120.848269</td>\n",
       "      <td>44024.370803</td>\n",
       "      <td>...</td>\n",
       "      <td>31.588386</td>\n",
       "      <td>1306.806478</td>\n",
       "      <td>956.824487</td>\n",
       "      <td>349.981991</td>\n",
       "      <td>43230.274058</td>\n",
       "      <td>33.080854</td>\n",
       "      <td>487.168233</td>\n",
       "      <td>137.186242</td>\n",
       "      <td>349.981991</td>\n",
       "      <td>9602.461934</td>\n",
       "    </tr>\n",
       "    <tr>\n",
       "      <td>2</td>\n",
       "      <td>1991-08-01</td>\n",
       "      <td>939.132832</td>\n",
       "      <td>820.757900</td>\n",
       "      <td>118.374932</td>\n",
       "      <td>42556.537800</td>\n",
       "      <td>45.314716</td>\n",
       "      <td>900.201191</td>\n",
       "      <td>787.704715</td>\n",
       "      <td>112.496476</td>\n",
       "      <td>42556.537800</td>\n",
       "      <td>...</td>\n",
       "      <td>31.152518</td>\n",
       "      <td>1309.290118</td>\n",
       "      <td>956.818403</td>\n",
       "      <td>352.471714</td>\n",
       "      <td>42819.241526</td>\n",
       "      <td>32.704166</td>\n",
       "      <td>519.555158</td>\n",
       "      <td>167.083444</td>\n",
       "      <td>352.471714</td>\n",
       "      <td>10505.482254</td>\n",
       "    </tr>\n",
       "    <tr>\n",
       "      <td>3</td>\n",
       "      <td>1991-11-01</td>\n",
       "      <td>970.421276</td>\n",
       "      <td>842.738981</td>\n",
       "      <td>127.682295</td>\n",
       "      <td>45819.427189</td>\n",
       "      <td>47.216017</td>\n",
       "      <td>932.712296</td>\n",
       "      <td>814.118293</td>\n",
       "      <td>118.594003</td>\n",
       "      <td>45819.427189</td>\n",
       "      <td>...</td>\n",
       "      <td>30.924781</td>\n",
       "      <td>1263.034432</td>\n",
       "      <td>918.024795</td>\n",
       "      <td>345.009636</td>\n",
       "      <td>41447.959872</td>\n",
       "      <td>32.816176</td>\n",
       "      <td>522.435387</td>\n",
       "      <td>177.425751</td>\n",
       "      <td>345.009636</td>\n",
       "      <td>10777.594222</td>\n",
       "    </tr>\n",
       "    <tr>\n",
       "      <td>4</td>\n",
       "      <td>1992-02-01</td>\n",
       "      <td>934.672768</td>\n",
       "      <td>811.767282</td>\n",
       "      <td>122.905486</td>\n",
       "      <td>43410.432376</td>\n",
       "      <td>46.444525</td>\n",
       "      <td>899.227692</td>\n",
       "      <td>786.085850</td>\n",
       "      <td>113.141842</td>\n",
       "      <td>43410.432376</td>\n",
       "      <td>...</td>\n",
       "      <td>31.580958</td>\n",
       "      <td>1258.163885</td>\n",
       "      <td>924.940342</td>\n",
       "      <td>333.223543</td>\n",
       "      <td>42236.679130</td>\n",
       "      <td>33.570093</td>\n",
       "      <td>431.760358</td>\n",
       "      <td>98.536815</td>\n",
       "      <td>333.223543</td>\n",
       "      <td>8260.379321</td>\n",
       "    </tr>\n",
       "  </tbody>\n",
       "</table>\n",
       "<p>5 rows × 251 columns</p>\n",
       "</div>"
      ],
      "text/plain": [
       "        Date  Managers ;  Employed total ;  \\\n",
       "0 1991-02-01                    966.567271   \n",
       "1 1991-05-01                    961.677440   \n",
       "2 1991-08-01                    939.132832   \n",
       "3 1991-11-01                    970.421276   \n",
       "4 1992-02-01                    934.672768   \n",
       "\n",
       "   Managers ;  > Employed full-time ;  Managers ;  > Employed part-time ;  \\\n",
       "0                          838.138327                          128.428944   \n",
       "1                          833.802650                          127.874790   \n",
       "2                          820.757900                          118.374932   \n",
       "3                          842.738981                          127.682295   \n",
       "4                          811.767282                          122.905486   \n",
       "\n",
       "   Managers ;  Number of actual hours worked in all jobs ;  \\\n",
       "0                                       44759.445116         \n",
       "1                                       44024.370803         \n",
       "2                                       42556.537800         \n",
       "3                                       45819.427189         \n",
       "4                                       43410.432376         \n",
       "\n",
       "   Managers ;  Hours actually worked in all jobs per employed person ;  \\\n",
       "0                                          46.307636                     \n",
       "1                                          45.778729                     \n",
       "2                                          45.314716                     \n",
       "3                                          47.216017                     \n",
       "4                                          46.444525                     \n",
       "\n",
       "   Managers ;  Worked 1 hour or more ;  Employed total ;  \\\n",
       "0                                         923.507601       \n",
       "1                                         922.943214       \n",
       "2                                         900.201191       \n",
       "3                                         932.712296       \n",
       "4                                         899.227692       \n",
       "\n",
       "   Managers ;  Worked 1 hour or more ;  > Employed full-time ;  \\\n",
       "0                                         805.748614             \n",
       "1                                         802.094945             \n",
       "2                                         787.704715             \n",
       "3                                         814.118293             \n",
       "4                                         786.085850             \n",
       "\n",
       "   Managers ;  Worked 1 hour or more ;  > Employed part-time ;  \\\n",
       "0                                         117.758986             \n",
       "1                                         120.848269             \n",
       "2                                         112.496476             \n",
       "3                                         118.594003             \n",
       "4                                         113.141842             \n",
       "\n",
       "   Managers ;  Worked 1 hour or more ;  Number of actual hours worked in all jobs ;  \\\n",
       "0                                       44759.445116                                  \n",
       "1                                       44024.370803                                  \n",
       "2                                       42556.537800                                  \n",
       "3                                       45819.427189                                  \n",
       "4                                       43410.432376                                  \n",
       "\n",
       "   ...  \\\n",
       "0  ...   \n",
       "1  ...   \n",
       "2  ...   \n",
       "3  ...   \n",
       "4  ...   \n",
       "\n",
       "   Clerical and Administrative Workers ;  Hours actually worked in all jobs per employed person ;  \\\n",
       "0                                          31.959200                                                \n",
       "1                                          31.588386                                                \n",
       "2                                          31.152518                                                \n",
       "3                                          30.924781                                                \n",
       "4                                          31.580958                                                \n",
       "\n",
       "   Clerical and Administrative Workers ;  Worked 1 hour or more ;  Employed total ;  \\\n",
       "0                                        1329.830133                                  \n",
       "1                                        1306.806478                                  \n",
       "2                                        1309.290118                                  \n",
       "3                                        1263.034432                                  \n",
       "4                                        1258.163885                                  \n",
       "\n",
       "   Clerical and Administrative Workers ;  Worked 1 hour or more ;  > Employed full-time ;  \\\n",
       "0                                         990.570466                                        \n",
       "1                                         956.824487                                        \n",
       "2                                         956.818403                                        \n",
       "3                                         918.024795                                        \n",
       "4                                         924.940342                                        \n",
       "\n",
       "   Clerical and Administrative Workers ;  Worked 1 hour or more ;  > Employed part-time ;  \\\n",
       "0                                         339.259667                                        \n",
       "1                                         349.981991                                        \n",
       "2                                         352.471714                                        \n",
       "3                                         345.009636                                        \n",
       "4                                         333.223543                                        \n",
       "\n",
       "   Clerical and Administrative Workers ;  Worked 1 hour or more ;  Number of actual hours worked in all jobs ;  \\\n",
       "0                                       44742.604154                                                             \n",
       "1                                       43230.274058                                                             \n",
       "2                                       42819.241526                                                             \n",
       "3                                       41447.959872                                                             \n",
       "4                                       42236.679130                                                             \n",
       "\n",
       "   Clerical and Administrative Workers ;  Worked 1 hour or more ;  Hours actually worked in all jobs per employed person ;  \\\n",
       "0                                          33.645353                                                                         \n",
       "1                                          33.080854                                                                         \n",
       "2                                          32.704166                                                                         \n",
       "3                                          32.816176                                                                         \n",
       "4                                          33.570093                                                                         \n",
       "\n",
       "   Clerical and Administrative Workers ;  > Worked fewer than 35 hours ;  Employed total ;  \\\n",
       "0                                         454.998196                                         \n",
       "1                                         487.168233                                         \n",
       "2                                         519.555158                                         \n",
       "3                                         522.435387                                         \n",
       "4                                         431.760358                                         \n",
       "\n",
       "   Clerical and Administrative Workers ;  > Worked fewer than 35 hours ;  > Employed full-time ;  \\\n",
       "0                                         115.738529                                               \n",
       "1                                         137.186242                                               \n",
       "2                                         167.083444                                               \n",
       "3                                         177.425751                                               \n",
       "4                                          98.536815                                               \n",
       "\n",
       "   Clerical and Administrative Workers ;  > Worked fewer than 35 hours ;  > Employed part-time ;  \\\n",
       "0                                         339.259667                                               \n",
       "1                                         349.981991                                               \n",
       "2                                         352.471714                                               \n",
       "3                                         345.009636                                               \n",
       "4                                         333.223543                                               \n",
       "\n",
       "   Clerical and Administrative Workers ;  > Worked fewer than 35 hours ;  Number of actual hours worked in all jobs ;  \n",
       "0                                        8899.890948                                                                   \n",
       "1                                        9602.461934                                                                   \n",
       "2                                       10505.482254                                                                   \n",
       "3                                       10777.594222                                                                   \n",
       "4                                        8260.379321                                                                   \n",
       "\n",
       "[5 rows x 251 columns]"
      ]
     },
     "execution_count": 44,
     "metadata": {},
     "output_type": "execute_result"
    }
   ],
   "source": [
    "df.rename(columns={\"Managers ;  Employed total ;\":\"managers_employed\",\"Professionals ;  Employed total ;\":\"professionals_employed\",\"Technicians and Trades Workers ;  Employed total ;\""
   ]
  },
  {
   "cell_type": "code",
   "execution_count": 82,
   "metadata": {},
   "outputs": [
    {
     "name": "stdout",
     "output_type": "stream",
     "text": [
      "<class 'pandas.core.frame.DataFrame'>\n",
      "RangeIndex: 38 entries, 0 to 37\n",
      "Columns: 251 entries, Date to Clerical and Administrative Workers ;  > Worked fewer than 35 hours ;  Number of actual hours worked in all jobs ;\n",
      "dtypes: datetime64[ns](1), float64(250)\n",
      "memory usage: 74.6 KB\n"
     ]
    }
   ],
   "source": [
    "df.info()"
   ]
  },
  {
   "cell_type": "code",
   "execution_count": 99,
   "metadata": {},
   "outputs": [],
   "source": [
    "df_total=df[[\"Date\",\"Managers ;  Employed total ;\",\"Professionals ;  Employed total ;\",\"Technicians and Trades Workers ;  Employed total ;\",\"Community and Personal Service Workers ;  Employed total ;\",\"Clerical and Administrative Workers ;  Employed total ;\"]]"
   ]
  },
  {
   "cell_type": "code",
   "execution_count": 100,
   "metadata": {},
   "outputs": [
    {
     "name": "stderr",
     "output_type": "stream",
     "text": [
      "/opt/anaconda3/lib/python3.7/site-packages/ipykernel_launcher.py:1: SettingWithCopyWarning: \n",
      "A value is trying to be set on a copy of a slice from a DataFrame.\n",
      "Try using .loc[row_indexer,col_indexer] = value instead\n",
      "\n",
      "See the caveats in the documentation: http://pandas.pydata.org/pandas-docs/stable/user_guide/indexing.html#returning-a-view-versus-a-copy\n",
      "  \"\"\"Entry point for launching an IPython kernel.\n"
     ]
    }
   ],
   "source": [
    "df_total[\"overall_employed\"]=df_total[\"Managers ;  Employed total ;\"]+df_total[\"Professionals ;  Employed total ;\"]+df_total[\"Technicians and Trades Workers ;  Employed total ;\"]+df_total[\"Community and Personal Service Workers ;  Employed total ;\"]+df_total[\"Clerical and Administrative Workers ;  Employed total ;\"]"
   ]
  },
  {
   "cell_type": "code",
   "execution_count": 101,
   "metadata": {},
   "outputs": [
    {
     "data": {
      "text/html": [
       "<div>\n",
       "<style scoped>\n",
       "    .dataframe tbody tr th:only-of-type {\n",
       "        vertical-align: middle;\n",
       "    }\n",
       "\n",
       "    .dataframe tbody tr th {\n",
       "        vertical-align: top;\n",
       "    }\n",
       "\n",
       "    .dataframe thead th {\n",
       "        text-align: right;\n",
       "    }\n",
       "</style>\n",
       "<table border=\"1\" class=\"dataframe\">\n",
       "  <thead>\n",
       "    <tr style=\"text-align: right;\">\n",
       "      <th></th>\n",
       "      <th>Date</th>\n",
       "      <th>Managers ;  Employed total ;</th>\n",
       "      <th>Professionals ;  Employed total ;</th>\n",
       "      <th>Technicians and Trades Workers ;  Employed total ;</th>\n",
       "      <th>Community and Personal Service Workers ;  Employed total ;</th>\n",
       "      <th>Clerical and Administrative Workers ;  Employed total ;</th>\n",
       "      <th>overall_employed</th>\n",
       "    </tr>\n",
       "  </thead>\n",
       "  <tbody>\n",
       "    <tr>\n",
       "      <td>0</td>\n",
       "      <td>2019-02-01</td>\n",
       "      <td>1530.858650</td>\n",
       "      <td>3117.254080</td>\n",
       "      <td>1813.087790</td>\n",
       "      <td>1387.819338</td>\n",
       "      <td>1772.903940</td>\n",
       "      <td>9621.923798</td>\n",
       "    </tr>\n",
       "    <tr>\n",
       "      <td>1</td>\n",
       "      <td>2019-05-01</td>\n",
       "      <td>1530.382730</td>\n",
       "      <td>3132.760054</td>\n",
       "      <td>1815.948222</td>\n",
       "      <td>1428.121784</td>\n",
       "      <td>1756.363590</td>\n",
       "      <td>9663.576381</td>\n",
       "    </tr>\n",
       "    <tr>\n",
       "      <td>2</td>\n",
       "      <td>2019-08-01</td>\n",
       "      <td>1524.281916</td>\n",
       "      <td>3193.229016</td>\n",
       "      <td>1786.216105</td>\n",
       "      <td>1406.417890</td>\n",
       "      <td>1747.133986</td>\n",
       "      <td>9657.278912</td>\n",
       "    </tr>\n",
       "    <tr>\n",
       "      <td>3</td>\n",
       "      <td>2019-11-01</td>\n",
       "      <td>1546.148635</td>\n",
       "      <td>3199.985805</td>\n",
       "      <td>1809.887612</td>\n",
       "      <td>1406.457441</td>\n",
       "      <td>1800.699748</td>\n",
       "      <td>9763.179240</td>\n",
       "    </tr>\n",
       "    <tr>\n",
       "      <td>4</td>\n",
       "      <td>2020-02-01</td>\n",
       "      <td>1624.541510</td>\n",
       "      <td>3208.930734</td>\n",
       "      <td>1803.434295</td>\n",
       "      <td>1430.792414</td>\n",
       "      <td>1747.875760</td>\n",
       "      <td>9815.574713</td>\n",
       "    </tr>\n",
       "  </tbody>\n",
       "</table>\n",
       "</div>"
      ],
      "text/plain": [
       "        Date  Managers ;  Employed total ;  Professionals ;  Employed total ;  \\\n",
       "0 2019-02-01                   1530.858650                        3117.254080   \n",
       "1 2019-05-01                   1530.382730                        3132.760054   \n",
       "2 2019-08-01                   1524.281916                        3193.229016   \n",
       "3 2019-11-01                   1546.148635                        3199.985805   \n",
       "4 2020-02-01                   1624.541510                        3208.930734   \n",
       "\n",
       "   Technicians and Trades Workers ;  Employed total ;  \\\n",
       "0                                        1813.087790    \n",
       "1                                        1815.948222    \n",
       "2                                        1786.216105    \n",
       "3                                        1809.887612    \n",
       "4                                        1803.434295    \n",
       "\n",
       "   Community and Personal Service Workers ;  Employed total ;  \\\n",
       "0                                        1387.819338            \n",
       "1                                        1428.121784            \n",
       "2                                        1406.417890            \n",
       "3                                        1406.457441            \n",
       "4                                        1430.792414            \n",
       "\n",
       "   Clerical and Administrative Workers ;  Employed total ;  overall_employed  \n",
       "0                                        1772.903940             9621.923798  \n",
       "1                                        1756.363590             9663.576381  \n",
       "2                                        1747.133986             9657.278912  \n",
       "3                                        1800.699748             9763.179240  \n",
       "4                                        1747.875760             9815.574713  "
      ]
     },
     "execution_count": 101,
     "metadata": {},
     "output_type": "execute_result"
    }
   ],
   "source": [
    "df_total.head()"
   ]
  },
  {
   "cell_type": "code",
   "execution_count": null,
   "metadata": {},
   "outputs": [],
   "source": []
  },
  {
   "cell_type": "code",
   "execution_count": 71,
   "metadata": {},
   "outputs": [
    {
     "data": {
      "text/plain": [
       "Index(['Date', 'Managers ;  Employed total ;',\n",
       "       'Professionals ;  Employed total ;',\n",
       "       'Technicians and Trades Workers ;  Employed total ;',\n",
       "       'Community and Personal Service Workers ;  Employed total ;',\n",
       "       'Clerical and Administrative Workers ;  Employed total ;',\n",
       "       'overall_employed'],\n",
       "      dtype='object')"
      ]
     },
     "execution_count": 71,
     "metadata": {},
     "output_type": "execute_result"
    }
   ],
   "source": [
    "df_total.columns"
   ]
  },
  {
   "cell_type": "code",
   "execution_count": 70,
   "metadata": {},
   "outputs": [
    {
     "name": "stdout",
     "output_type": "stream",
     "text": [
      "<class 'pandas.core.frame.DataFrame'>\n",
      "RangeIndex: 118 entries, 0 to 117\n",
      "Data columns (total 7 columns):\n",
      "Date                                                          118 non-null datetime64[ns]\n",
      "Managers ;  Employed total ;                                  118 non-null float64\n",
      "Professionals ;  Employed total ;                             118 non-null float64\n",
      "Technicians and Trades Workers ;  Employed total ;            118 non-null float64\n",
      "Community and Personal Service Workers ;  Employed total ;    118 non-null float64\n",
      "Clerical and Administrative Workers ;  Employed total ;       118 non-null float64\n",
      "overall_employed                                              118 non-null float64\n",
      "dtypes: datetime64[ns](1), float64(6)\n",
      "memory usage: 6.6 KB\n"
     ]
    }
   ],
   "source": [
    "df_total.info()"
   ]
  },
  {
   "cell_type": "code",
   "execution_count": 120,
   "metadata": {},
   "outputs": [
    {
     "data": {
      "text/plain": [
       "[<matplotlib.lines.Line2D at 0x7fa449a62e90>]"
      ]
     },
     "execution_count": 120,
     "metadata": {},
     "output_type": "execute_result"
    },
    {
     "data": {
      "image/png": "[encoded data removed]",
      "text/plain": [
       "<Figure size 432x288 with 1 Axes>"
      ]
     },
     "metadata": {
      "needs_background": "light"
     },
     "output_type": "display_data"
    }
   ],
   "source": [
    "x=df_total['Date']\n",
    "y=df_total['overall_employed']\n",
    "degrees = 45\n",
    "plt.xticks(rotation=degrees)\n",
    "plt.title(\"Total employment from 2019 to May 2020\")\n",
    "plt.plot(x,y)"
   ]
  },
  {
   "cell_type": "code",
   "execution_count": 114,
   "metadata": {},
   "outputs": [
    {
     "data": {
      "image/png": "[encoded data removed]",
      "text/plain": [
       "<Figure size 432x288 with 1 Axes>"
      ]
     },
     "metadata": {
      "needs_background": "light"
     },
     "output_type": "display_data"
    }
   ],
   "source": [
    "z = np.random.rand(40)\n",
    "degrees = 45\n",
    "plt.xticks(rotation=degrees)\n",
    "plt.scatter(x, y, s=z*3000, alpha=0.5,cmap=\"Blues\", edgecolors=\"grey\", linewidth=2)\n",
    "plt.show()\n"
   ]
  },
  {
   "cell_type": "code",
   "execution_count": 121,
   "metadata": {},
   "outputs": [
    {
     "data": {
      "text/plain": [
       "[<matplotlib.lines.Line2D at 0x7fa42b17cc10>]"
      ]
     },
     "execution_count": 121,
     "metadata": {},
     "output_type": "execute_result"
    },
    {
     "data": {
      "image/png": "[encoded data removed]",
      "text/plain": [
       "<Figure size 432x288 with 1 Axes>"
      ]
     },
     "metadata": {
      "needs_background": "light"
     },
     "output_type": "display_data"
    }
   ],
   "source": [
    "x=df_total['Date']\n",
    "y=df_total['Managers ;  Employed total ;']\n",
    "degrees = 45\n",
    "plt.xticks(rotation=degrees)\n",
    "plt.title(\"Total employment from 2019 to May 2020 as Managers \")\n",
    "plt.plot(x,y)"
   ]
  },
  {
   "cell_type": "code",
   "execution_count": 122,
   "metadata": {},
   "outputs": [
    {
     "data": {
      "text/plain": [
       "[<matplotlib.lines.Line2D at 0x7fa448ae5590>]"
      ]
     },
     "execution_count": 122,
     "metadata": {},
     "output_type": "execute_result"
    },
    {
     "data": {
      "image/png": "[encoded data removed]",
      "text/plain": [
       "<Figure size 432x288 with 1 Axes>"
      ]
     },
     "metadata": {
      "needs_background": "light"
     },
     "output_type": "display_data"
    }
   ],
   "source": [
    "x=df_total['Date']\n",
    "y=df_total['Professionals ;  Employed total ;']\n",
    "degrees = 45\n",
    "plt.xticks(rotation=degrees)\n",
    "plt.title(\"Total employment from 2019 to May 2020 as Professionals \")\n",
    "plt.plot(x,y)"
   ]
  },
  {
   "cell_type": "code",
   "execution_count": 123,
   "metadata": {},
   "outputs": [
    {
     "data": {
      "text/plain": [
       "[<matplotlib.lines.Line2D at 0x7fa448d5a610>]"
      ]
     },
     "execution_count": 123,
     "metadata": {},
     "output_type": "execute_result"
    },
    {
     "data": {
      "image/png": "[encoded data removed]",
      "text/plain": [
       "<Figure size 432x288 with 1 Axes>"
      ]
     },
     "metadata": {
      "needs_background": "light"
     },
     "output_type": "display_data"
    }
   ],
   "source": [
    "x=df_total['Date']\n",
    "y=df_total['Technicians and Trades Workers ;  Employed total ;']\n",
    "degrees = 45\n",
    "plt.xticks(rotation=degrees)\n",
    "plt.title(\"Total employment from 2019 to May 2020 as Technicians and Trades Workers  \")\n",
    "plt.plot(x,y)"
   ]
  },
  {
   "cell_type": "code",
   "execution_count": 124,
   "metadata": {},
   "outputs": [
    {
     "data": {
      "text/plain": [
       "[<matplotlib.lines.Line2D at 0x7fa448d5afd0>]"
      ]
     },
     "execution_count": 124,
     "metadata": {},
     "output_type": "execute_result"
    },
    {
     "data": {
      "image/png": "[encoded data removed]",
      "text/plain": [
       "<Figure size 432x288 with 1 Axes>"
      ]
     },
     "metadata": {
      "needs_background": "light"
     },
     "output_type": "display_data"
    }
   ],
   "source": [
    "    \n",
    "x=df_total['Date']\n",
    "y=df_total['Community and Personal Service Workers ;  Employed total ;']\n",
    "degrees = 45\n",
    "plt.xticks(rotation=degrees)\n",
    "plt.title(\"Total employment from 2019 to May 2020 as Community and Personal Service Workers \")\n",
    "plt.plot(x,y)"
   ]
  },
  {
   "cell_type": "code",
   "execution_count": 125,
   "metadata": {},
   "outputs": [
    {
     "data": {
      "text/plain": [
       "[<matplotlib.lines.Line2D at 0x7fa448e2d5d0>]"
      ]
     },
     "execution_count": 125,
     "metadata": {},
     "output_type": "execute_result"
    },
    {
     "data": {
      "image/png": "[encoded data removed]",
      "text/plain": [
       "<Figure size 432x288 with 1 Axes>"
      ]
     },
     "metadata": {
      "needs_background": "light"
     },
     "output_type": "display_data"
    }
   ],
   "source": [
    "\n",
    "x=df_total['Date']\n",
    "y=df_total['Clerical and Administrative Workers ;  Employed total ;']\n",
    "degrees = 45\n",
    "plt.xticks(rotation=degrees)\n",
    "plt.title(\"Total employment from 2019 to May 2020 as Clerical and Administrative Workers \")\n",
    "plt.plot(x,y)"
   ]
  },
  {
   "cell_type": "code",
   "execution_count": 126,
   "metadata": {},
   "outputs": [],
   "source": [
    "data1= pd.read_excel('employment.xlsx',sheet_name='Data2',skiprows=skipr)\n",
    "df_1=data1.copy()"
   ]
  },
  {
   "cell_type": "code",
   "execution_count": 134,
   "metadata": {},
   "outputs": [],
   "source": [
    "columns=df_1.columns.to_list()"
   ]
  },
  {
   "cell_type": "code",
   "execution_count": 135,
   "metadata": {},
   "outputs": [
    {
     "data": {
      "text/plain": [
       "['Unnamed: 0',\n",
       " 'Clerical and Administrative Workers ;  > Worked fewer than 35 hours ;  Hours actually worked in all jobs per employed person ;',\n",
       " 'Clerical and Administrative Workers ;  >> 1-9 hours ;  Employed total ;',\n",
       " 'Clerical and Administrative Workers ;  >> 1-9 hours ;  > Employed full-time ;',\n",
       " 'Clerical and Administrative Workers ;  >> 1-9 hours ;  > Employed part-time ;',\n",
       " 'Clerical and Administrative Workers ;  >> 1-9 hours ;  Number of actual hours worked in all jobs ;',\n",
       " 'Clerical and Administrative Workers ;  >> 1-9 hours ;  Hours actually worked in all jobs per employed person ;',\n",
       " 'Clerical and Administrative Workers ;  >> 10-19 hours ;  Employed total ;',\n",
       " 'Clerical and Administrative Workers ;  >> 10-19 hours ;  > Employed full-time ;',\n",
       " 'Clerical and Administrative Workers ;  >> 10-19 hours ;  > Employed part-time ;',\n",
       " 'Clerical and Administrative Workers ;  >> 10-19 hours ;  Number of actual hours worked in all jobs ;',\n",
       " 'Clerical and Administrative Workers ;  >> 10-19 hours ;  Hours actually worked in all jobs per employed person ;',\n",
       " 'Clerical and Administrative Workers ;  >> 20-29 hours ;  Employed total ;',\n",
       " 'Clerical and Administrative Workers ;  >> 20-29 hours ;  > Employed full-time ;',\n",
       " 'Clerical and Administrative Workers ;  >> 20-29 hours ;  > Employed part-time ;',\n",
       " 'Clerical and Administrative Workers ;  >> 20-29 hours ;  Number of actual hours worked in all jobs ;',\n",
       " 'Clerical and Administrative Workers ;  >> 20-29 hours ;  Hours actually worked in all jobs per employed person ;',\n",
       " 'Clerical and Administrative Workers ;  >> 30-34 hours ;  Employed total ;',\n",
       " 'Clerical and Administrative Workers ;  >> 30-34 hours ;  > Employed full-time ;',\n",
       " 'Clerical and Administrative Workers ;  >> 30-34 hours ;  > Employed part-time ;',\n",
       " 'Clerical and Administrative Workers ;  >> 30-34 hours ;  Number of actual hours worked in all jobs ;',\n",
       " 'Clerical and Administrative Workers ;  >> 30-34 hours ;  Hours actually worked in all jobs per employed person ;',\n",
       " 'Clerical and Administrative Workers ;  > Worked 35 hours or more ;  Employed total ;',\n",
       " 'Clerical and Administrative Workers ;  > Worked 35 hours or more ;  Number of actual hours worked in all jobs ;',\n",
       " 'Clerical and Administrative Workers ;  > Worked 35 hours or more ;  Hours actually worked in all jobs per employed person ;',\n",
       " 'Clerical and Administrative Workers ;  >> 35-39 hours ;  Employed total ;',\n",
       " 'Clerical and Administrative Workers ;  >> 35-39 hours ;  Number of actual hours worked in all jobs ;',\n",
       " 'Clerical and Administrative Workers ;  >> 35-39 hours ;  Hours actually worked in all jobs per employed person ;',\n",
       " 'Clerical and Administrative Workers ;  >> 40-44 hours ;  Employed total ;',\n",
       " 'Clerical and Administrative Workers ;  >> 40-44 hours ;  Number of actual hours worked in all jobs ;',\n",
       " 'Clerical and Administrative Workers ;  >> 40-44 hours ;  Hours actually worked in all jobs per employed person ;',\n",
       " 'Clerical and Administrative Workers ;  >> 45-49 hours ;  Employed total ;',\n",
       " 'Clerical and Administrative Workers ;  >> 45-49 hours ;  Number of actual hours worked in all jobs ;',\n",
       " 'Clerical and Administrative Workers ;  >> 45-49 hours ;  Hours actually worked in all jobs per employed person ;',\n",
       " 'Clerical and Administrative Workers ;  >> 50-59 hours ;  Employed total ;',\n",
       " 'Clerical and Administrative Workers ;  >> 50-59 hours ;  Number of actual hours worked in all jobs ;',\n",
       " 'Clerical and Administrative Workers ;  >> 50-59 hours ;  Hours actually worked in all jobs per employed person ;',\n",
       " 'Clerical and Administrative Workers ;  >> 60-69 hours ;  Employed total ;',\n",
       " 'Clerical and Administrative Workers ;  >> 60-69 hours ;  Number of actual hours worked in all jobs ;',\n",
       " 'Clerical and Administrative Workers ;  >> 60-69 hours ;  Hours actually worked in all jobs per employed person ;',\n",
       " 'Clerical and Administrative Workers ;  >> 70 hours or more ;  Employed total ;',\n",
       " 'Clerical and Administrative Workers ;  >> 70 hours or more ;  Number of actual hours worked in all jobs ;',\n",
       " 'Clerical and Administrative Workers ;  >> 70 hours or more ;  Hours actually worked in all jobs per employed person ;',\n",
       " 'Clerical and Administrative Workers ;  Did not work (0 hours) ;  Employed total ;',\n",
       " 'Clerical and Administrative Workers ;  Did not work (0 hours) ;  > Employed full-time ;',\n",
       " 'Clerical and Administrative Workers ;  Did not work (0 hours) ;  > Employed part-time ;',\n",
       " 'Sales Workers ;  Employed total ;',\n",
       " 'Sales Workers ;  > Employed full-time ;',\n",
       " 'Sales Workers ;  > Employed part-time ;',\n",
       " 'Sales Workers ;  Number of actual hours worked in all jobs ;',\n",
       " 'Sales Workers ;  Hours actually worked in all jobs per employed person ;',\n",
       " 'Sales Workers ;  Worked 1 hour or more ;  Employed total ;',\n",
       " 'Sales Workers ;  Worked 1 hour or more ;  > Employed full-time ;',\n",
       " 'Sales Workers ;  Worked 1 hour or more ;  > Employed part-time ;',\n",
       " 'Sales Workers ;  Worked 1 hour or more ;  Number of actual hours worked in all jobs ;',\n",
       " 'Sales Workers ;  Worked 1 hour or more ;  Hours actually worked in all jobs per employed person ;',\n",
       " 'Sales Workers ;  > Worked fewer than 35 hours ;  Employed total ;',\n",
       " 'Sales Workers ;  > Worked fewer than 35 hours ;  > Employed full-time ;',\n",
       " 'Sales Workers ;  > Worked fewer than 35 hours ;  > Employed part-time ;',\n",
       " 'Sales Workers ;  > Worked fewer than 35 hours ;  Number of actual hours worked in all jobs ;',\n",
       " 'Sales Workers ;  > Worked fewer than 35 hours ;  Hours actually worked in all jobs per employed person ;',\n",
       " 'Sales Workers ;  >> 1-9 hours ;  Employed total ;',\n",
       " 'Sales Workers ;  >> 1-9 hours ;  > Employed full-time ;',\n",
       " 'Sales Workers ;  >> 1-9 hours ;  > Employed part-time ;',\n",
       " 'Sales Workers ;  >> 1-9 hours ;  Number of actual hours worked in all jobs ;',\n",
       " 'Sales Workers ;  >> 1-9 hours ;  Hours actually worked in all jobs per employed person ;',\n",
       " 'Sales Workers ;  >> 10-19 hours ;  Employed total ;',\n",
       " 'Sales Workers ;  >> 10-19 hours ;  > Employed full-time ;',\n",
       " 'Sales Workers ;  >> 10-19 hours ;  > Employed part-time ;',\n",
       " 'Sales Workers ;  >> 10-19 hours ;  Number of actual hours worked in all jobs ;',\n",
       " 'Sales Workers ;  >> 10-19 hours ;  Hours actually worked in all jobs per employed person ;',\n",
       " 'Sales Workers ;  >> 20-29 hours ;  Employed total ;',\n",
       " 'Sales Workers ;  >> 20-29 hours ;  > Employed full-time ;',\n",
       " 'Sales Workers ;  >> 20-29 hours ;  > Employed part-time ;',\n",
       " 'Sales Workers ;  >> 20-29 hours ;  Number of actual hours worked in all jobs ;',\n",
       " 'Sales Workers ;  >> 20-29 hours ;  Hours actually worked in all jobs per employed person ;',\n",
       " 'Sales Workers ;  >> 30-34 hours ;  Employed total ;',\n",
       " 'Sales Workers ;  >> 30-34 hours ;  > Employed full-time ;',\n",
       " 'Sales Workers ;  >> 30-34 hours ;  > Employed part-time ;',\n",
       " 'Sales Workers ;  >> 30-34 hours ;  Number of actual hours worked in all jobs ;',\n",
       " 'Sales Workers ;  >> 30-34 hours ;  Hours actually worked in all jobs per employed person ;',\n",
       " 'Sales Workers ;  > Worked 35 hours or more ;  Employed total ;',\n",
       " 'Sales Workers ;  > Worked 35 hours or more ;  Number of actual hours worked in all jobs ;',\n",
       " 'Sales Workers ;  > Worked 35 hours or more ;  Hours actually worked in all jobs per employed person ;',\n",
       " 'Sales Workers ;  >> 35-39 hours ;  Employed total ;',\n",
       " 'Sales Workers ;  >> 35-39 hours ;  Number of actual hours worked in all jobs ;',\n",
       " 'Sales Workers ;  >> 35-39 hours ;  Hours actually worked in all jobs per employed person ;',\n",
       " 'Sales Workers ;  >> 40-44 hours ;  Employed total ;',\n",
       " 'Sales Workers ;  >> 40-44 hours ;  Number of actual hours worked in all jobs ;',\n",
       " 'Sales Workers ;  >> 40-44 hours ;  Hours actually worked in all jobs per employed person ;',\n",
       " 'Sales Workers ;  >> 45-49 hours ;  Employed total ;',\n",
       " 'Sales Workers ;  >> 45-49 hours ;  Number of actual hours worked in all jobs ;',\n",
       " 'Sales Workers ;  >> 45-49 hours ;  Hours actually worked in all jobs per employed person ;',\n",
       " 'Sales Workers ;  >> 50-59 hours ;  Employed total ;',\n",
       " 'Sales Workers ;  >> 50-59 hours ;  Number of actual hours worked in all jobs ;',\n",
       " 'Sales Workers ;  >> 50-59 hours ;  Hours actually worked in all jobs per employed person ;',\n",
       " 'Sales Workers ;  >> 60-69 hours ;  Employed total ;',\n",
       " 'Sales Workers ;  >> 60-69 hours ;  Number of actual hours worked in all jobs ;',\n",
       " 'Sales Workers ;  >> 60-69 hours ;  Hours actually worked in all jobs per employed person ;',\n",
       " 'Sales Workers ;  >> 70 hours or more ;  Employed total ;',\n",
       " 'Sales Workers ;  >> 70 hours or more ;  Number of actual hours worked in all jobs ;',\n",
       " 'Sales Workers ;  >> 70 hours or more ;  Hours actually worked in all jobs per employed person ;',\n",
       " 'Sales Workers ;  Did not work (0 hours) ;  Employed total ;',\n",
       " 'Sales Workers ;  Did not work (0 hours) ;  > Employed full-time ;',\n",
       " 'Sales Workers ;  Did not work (0 hours) ;  > Employed part-time ;',\n",
       " 'Machinery Operators and Drivers ;  Employed total ;',\n",
       " 'Machinery Operators and Drivers ;  > Employed full-time ;',\n",
       " 'Machinery Operators and Drivers ;  > Employed part-time ;',\n",
       " 'Machinery Operators and Drivers ;  Number of actual hours worked in all jobs ;',\n",
       " 'Machinery Operators and Drivers ;  Hours actually worked in all jobs per employed person ;',\n",
       " 'Machinery Operators and Drivers ;  Worked 1 hour or more ;  Employed total ;',\n",
       " 'Machinery Operators and Drivers ;  Worked 1 hour or more ;  > Employed full-time ;',\n",
       " 'Machinery Operators and Drivers ;  Worked 1 hour or more ;  > Employed part-time ;',\n",
       " 'Machinery Operators and Drivers ;  Worked 1 hour or more ;  Number of actual hours worked in all jobs ;',\n",
       " 'Machinery Operators and Drivers ;  Worked 1 hour or more ;  Hours actually worked in all jobs per employed person ;',\n",
       " 'Machinery Operators and Drivers ;  > Worked fewer than 35 hours ;  Employed total ;',\n",
       " 'Machinery Operators and Drivers ;  > Worked fewer than 35 hours ;  > Employed full-time ;',\n",
       " 'Machinery Operators and Drivers ;  > Worked fewer than 35 hours ;  > Employed part-time ;',\n",
       " 'Machinery Operators and Drivers ;  > Worked fewer than 35 hours ;  Number of actual hours worked in all jobs ;',\n",
       " 'Machinery Operators and Drivers ;  > Worked fewer than 35 hours ;  Hours actually worked in all jobs per employed person ;',\n",
       " 'Machinery Operators and Drivers ;  >> 1-9 hours ;  Employed total ;',\n",
       " 'Machinery Operators and Drivers ;  >> 1-9 hours ;  > Employed full-time ;',\n",
       " 'Machinery Operators and Drivers ;  >> 1-9 hours ;  > Employed part-time ;',\n",
       " 'Machinery Operators and Drivers ;  >> 1-9 hours ;  Number of actual hours worked in all jobs ;',\n",
       " 'Machinery Operators and Drivers ;  >> 1-9 hours ;  Hours actually worked in all jobs per employed person ;',\n",
       " 'Machinery Operators and Drivers ;  >> 10-19 hours ;  Employed total ;',\n",
       " 'Machinery Operators and Drivers ;  >> 10-19 hours ;  > Employed full-time ;',\n",
       " 'Machinery Operators and Drivers ;  >> 10-19 hours ;  > Employed part-time ;',\n",
       " 'Machinery Operators and Drivers ;  >> 10-19 hours ;  Number of actual hours worked in all jobs ;',\n",
       " 'Machinery Operators and Drivers ;  >> 10-19 hours ;  Hours actually worked in all jobs per employed person ;',\n",
       " 'Machinery Operators and Drivers ;  >> 20-29 hours ;  Employed total ;',\n",
       " 'Machinery Operators and Drivers ;  >> 20-29 hours ;  > Employed full-time ;',\n",
       " 'Machinery Operators and Drivers ;  >> 20-29 hours ;  > Employed part-time ;',\n",
       " 'Machinery Operators and Drivers ;  >> 20-29 hours ;  Number of actual hours worked in all jobs ;',\n",
       " 'Machinery Operators and Drivers ;  >> 20-29 hours ;  Hours actually worked in all jobs per employed person ;',\n",
       " 'Machinery Operators and Drivers ;  >> 30-34 hours ;  Employed total ;',\n",
       " 'Machinery Operators and Drivers ;  >> 30-34 hours ;  > Employed full-time ;',\n",
       " 'Machinery Operators and Drivers ;  >> 30-34 hours ;  > Employed part-time ;',\n",
       " 'Machinery Operators and Drivers ;  >> 30-34 hours ;  Number of actual hours worked in all jobs ;',\n",
       " 'Machinery Operators and Drivers ;  >> 30-34 hours ;  Hours actually worked in all jobs per employed person ;',\n",
       " 'Machinery Operators and Drivers ;  > Worked 35 hours or more ;  Employed total ;',\n",
       " 'Machinery Operators and Drivers ;  > Worked 35 hours or more ;  Number of actual hours worked in all jobs ;',\n",
       " 'Machinery Operators and Drivers ;  > Worked 35 hours or more ;  Hours actually worked in all jobs per employed person ;',\n",
       " 'Machinery Operators and Drivers ;  >> 35-39 hours ;  Employed total ;',\n",
       " 'Machinery Operators and Drivers ;  >> 35-39 hours ;  Number of actual hours worked in all jobs ;',\n",
       " 'Machinery Operators and Drivers ;  >> 35-39 hours ;  Hours actually worked in all jobs per employed person ;',\n",
       " 'Machinery Operators and Drivers ;  >> 40-44 hours ;  Employed total ;',\n",
       " 'Machinery Operators and Drivers ;  >> 40-44 hours ;  Number of actual hours worked in all jobs ;',\n",
       " 'Machinery Operators and Drivers ;  >> 40-44 hours ;  Hours actually worked in all jobs per employed person ;',\n",
       " 'Machinery Operators and Drivers ;  >> 45-49 hours ;  Employed total ;',\n",
       " 'Machinery Operators and Drivers ;  >> 45-49 hours ;  Number of actual hours worked in all jobs ;',\n",
       " 'Machinery Operators and Drivers ;  >> 45-49 hours ;  Hours actually worked in all jobs per employed person ;',\n",
       " 'Machinery Operators and Drivers ;  >> 50-59 hours ;  Employed total ;',\n",
       " 'Machinery Operators and Drivers ;  >> 50-59 hours ;  Number of actual hours worked in all jobs ;',\n",
       " 'Machinery Operators and Drivers ;  >> 50-59 hours ;  Hours actually worked in all jobs per employed person ;',\n",
       " 'Machinery Operators and Drivers ;  >> 60-69 hours ;  Employed total ;',\n",
       " 'Machinery Operators and Drivers ;  >> 60-69 hours ;  Number of actual hours worked in all jobs ;',\n",
       " 'Machinery Operators and Drivers ;  >> 60-69 hours ;  Hours actually worked in all jobs per employed person ;',\n",
       " 'Machinery Operators and Drivers ;  >> 70 hours or more ;  Employed total ;',\n",
       " 'Machinery Operators and Drivers ;  >> 70 hours or more ;  Number of actual hours worked in all jobs ;',\n",
       " 'Machinery Operators and Drivers ;  >> 70 hours or more ;  Hours actually worked in all jobs per employed person ;',\n",
       " 'Machinery Operators and Drivers ;  Did not work (0 hours) ;  Employed total ;',\n",
       " 'Machinery Operators and Drivers ;  Did not work (0 hours) ;  > Employed full-time ;',\n",
       " 'Machinery Operators and Drivers ;  Did not work (0 hours) ;  > Employed part-time ;',\n",
       " 'Labourers ;  Employed total ;',\n",
       " 'Labourers ;  > Employed full-time ;',\n",
       " 'Labourers ;  > Employed part-time ;',\n",
       " 'Labourers ;  Number of actual hours worked in all jobs ;',\n",
       " 'Labourers ;  Hours actually worked in all jobs per employed person ;',\n",
       " 'Labourers ;  Worked 1 hour or more ;  Employed total ;',\n",
       " 'Labourers ;  Worked 1 hour or more ;  > Employed full-time ;',\n",
       " 'Labourers ;  Worked 1 hour or more ;  > Employed part-time ;',\n",
       " 'Labourers ;  Worked 1 hour or more ;  Number of actual hours worked in all jobs ;',\n",
       " 'Labourers ;  Worked 1 hour or more ;  Hours actually worked in all jobs per employed person ;',\n",
       " 'Labourers ;  > Worked fewer than 35 hours ;  Employed total ;',\n",
       " 'Labourers ;  > Worked fewer than 35 hours ;  > Employed full-time ;',\n",
       " 'Labourers ;  > Worked fewer than 35 hours ;  > Employed part-time ;',\n",
       " 'Labourers ;  > Worked fewer than 35 hours ;  Number of actual hours worked in all jobs ;',\n",
       " 'Labourers ;  > Worked fewer than 35 hours ;  Hours actually worked in all jobs per employed person ;',\n",
       " 'Labourers ;  >> 1-9 hours ;  Employed total ;',\n",
       " 'Labourers ;  >> 1-9 hours ;  > Employed full-time ;',\n",
       " 'Labourers ;  >> 1-9 hours ;  > Employed part-time ;',\n",
       " 'Labourers ;  >> 1-9 hours ;  Number of actual hours worked in all jobs ;',\n",
       " 'Labourers ;  >> 1-9 hours ;  Hours actually worked in all jobs per employed person ;',\n",
       " 'Labourers ;  >> 10-19 hours ;  Employed total ;',\n",
       " 'Labourers ;  >> 10-19 hours ;  > Employed full-time ;',\n",
       " 'Labourers ;  >> 10-19 hours ;  > Employed part-time ;',\n",
       " 'Labourers ;  >> 10-19 hours ;  Number of actual hours worked in all jobs ;',\n",
       " 'Labourers ;  >> 10-19 hours ;  Hours actually worked in all jobs per employed person ;',\n",
       " 'Labourers ;  >> 20-29 hours ;  Employed total ;',\n",
       " 'Labourers ;  >> 20-29 hours ;  > Employed full-time ;',\n",
       " 'Labourers ;  >> 20-29 hours ;  > Employed part-time ;',\n",
       " 'Labourers ;  >> 20-29 hours ;  Number of actual hours worked in all jobs ;',\n",
       " 'Labourers ;  >> 20-29 hours ;  Hours actually worked in all jobs per employed person ;',\n",
       " 'Labourers ;  >> 30-34 hours ;  Employed total ;',\n",
       " 'Labourers ;  >> 30-34 hours ;  > Employed full-time ;',\n",
       " 'Labourers ;  >> 30-34 hours ;  > Employed part-time ;',\n",
       " 'Labourers ;  >> 30-34 hours ;  Number of actual hours worked in all jobs ;',\n",
       " 'Labourers ;  >> 30-34 hours ;  Hours actually worked in all jobs per employed person ;',\n",
       " 'Labourers ;  > Worked 35 hours or more ;  Employed total ;',\n",
       " 'Labourers ;  > Worked 35 hours or more ;  Number of actual hours worked in all jobs ;',\n",
       " 'Labourers ;  > Worked 35 hours or more ;  Hours actually worked in all jobs per employed person ;',\n",
       " 'Labourers ;  >> 35-39 hours ;  Employed total ;',\n",
       " 'Labourers ;  >> 35-39 hours ;  Number of actual hours worked in all jobs ;',\n",
       " 'Labourers ;  >> 35-39 hours ;  Hours actually worked in all jobs per employed person ;',\n",
       " 'Labourers ;  >> 40-44 hours ;  Employed total ;',\n",
       " 'Labourers ;  >> 40-44 hours ;  Number of actual hours worked in all jobs ;',\n",
       " 'Labourers ;  >> 40-44 hours ;  Hours actually worked in all jobs per employed person ;',\n",
       " 'Labourers ;  >> 45-49 hours ;  Employed total ;',\n",
       " 'Labourers ;  >> 45-49 hours ;  Number of actual hours worked in all jobs ;',\n",
       " 'Labourers ;  >> 45-49 hours ;  Hours actually worked in all jobs per employed person ;',\n",
       " 'Labourers ;  >> 50-59 hours ;  Employed total ;',\n",
       " 'Labourers ;  >> 50-59 hours ;  Number of actual hours worked in all jobs ;',\n",
       " 'Labourers ;  >> 50-59 hours ;  Hours actually worked in all jobs per employed person ;',\n",
       " 'Labourers ;  >> 60-69 hours ;  Employed total ;',\n",
       " 'Labourers ;  >> 60-69 hours ;  Number of actual hours worked in all jobs ;',\n",
       " 'Labourers ;  >> 60-69 hours ;  Hours actually worked in all jobs per employed person ;',\n",
       " 'Labourers ;  >> 70 hours or more ;  Employed total ;',\n",
       " 'Labourers ;  >> 70 hours or more ;  Number of actual hours worked in all jobs ;',\n",
       " 'Labourers ;  >> 70 hours or more ;  Hours actually worked in all jobs per employed person ;',\n",
       " 'Labourers ;  Did not work (0 hours) ;  Employed total ;',\n",
       " 'Labourers ;  Did not work (0 hours) ;  > Employed full-time ;',\n",
       " 'Labourers ;  Did not work (0 hours) ;  > Employed part-time ;',\n",
       " 'Employed total ;',\n",
       " '> Employed full-time ;',\n",
       " '> Employed part-time ;',\n",
       " 'Number of actual hours worked in all jobs ;',\n",
       " 'Hours actually worked in all jobs per employed person ;',\n",
       " 'Worked 1 hour or more ;  Employed total ;',\n",
       " 'Worked 1 hour or more ;  > Employed full-time ;',\n",
       " 'Worked 1 hour or more ;  > Employed part-time ;',\n",
       " 'Worked 1 hour or more ;  Number of actual hours worked in all jobs ;',\n",
       " 'Worked 1 hour or more ;  Hours actually worked in all jobs per employed person ;',\n",
       " '> Worked fewer than 35 hours ;  Employed total ;',\n",
       " '> Worked fewer than 35 hours ;  > Employed full-time ;',\n",
       " '> Worked fewer than 35 hours ;  > Employed part-time ;',\n",
       " '> Worked fewer than 35 hours ;  Number of actual hours worked in all jobs ;',\n",
       " '> Worked fewer than 35 hours ;  Hours actually worked in all jobs per employed person ;',\n",
       " '>> 1-9 hours ;  Employed total ;',\n",
       " '>> 1-9 hours ;  > Employed full-time ;',\n",
       " '>> 1-9 hours ;  > Employed part-time ;',\n",
       " '>> 1-9 hours ;  Number of actual hours worked in all jobs ;',\n",
       " '>> 1-9 hours ;  Hours actually worked in all jobs per employed person ;',\n",
       " '>> 10-19 hours ;  Employed total ;',\n",
       " '>> 10-19 hours ;  > Employed full-time ;',\n",
       " '>> 10-19 hours ;  > Employed part-time ;',\n",
       " '>> 10-19 hours ;  Number of actual hours worked in all jobs ;',\n",
       " '>> 10-19 hours ;  Hours actually worked in all jobs per employed person ;',\n",
       " '>> 20-29 hours ;  Employed total ;',\n",
       " '>> 20-29 hours ;  > Employed full-time ;',\n",
       " '>> 20-29 hours ;  > Employed part-time ;']"
      ]
     },
     "execution_count": 135,
     "metadata": {},
     "output_type": "execute_result"
    }
   ],
   "source": [
    "columns"
   ]
  },
  {
   "cell_type": "code",
   "execution_count": 142,
   "metadata": {},
   "outputs": [],
   "source": [
    "data_2=df_1[[\"Sales Workers ;  Employed total ;\",\"Machinery Operators and Drivers ;  Employed total ;\",\"Labourers ;  Employed total ;\",'Employed total ;']]"
   ]
  },
  {
   "cell_type": "code",
   "execution_count": 143,
   "metadata": {},
   "outputs": [],
   "source": [
    "result = pd.concat([df_total, data_2], axis=1, join='inner')"
   ]
  },
  {
   "cell_type": "code",
   "execution_count": 144,
   "metadata": {},
   "outputs": [
    {
     "data": {
      "text/html": [
       "<div>\n",
       "<style scoped>\n",
       "    .dataframe tbody tr th:only-of-type {\n",
       "        vertical-align: middle;\n",
       "    }\n",
       "\n",
       "    .dataframe tbody tr th {\n",
       "        vertical-align: top;\n",
       "    }\n",
       "\n",
       "    .dataframe thead th {\n",
       "        text-align: right;\n",
       "    }\n",
       "</style>\n",
       "<table border=\"1\" class=\"dataframe\">\n",
       "  <thead>\n",
       "    <tr style=\"text-align: right;\">\n",
       "      <th></th>\n",
       "      <th>Date</th>\n",
       "      <th>Managers ;  Employed total ;</th>\n",
       "      <th>Professionals ;  Employed total ;</th>\n",
       "      <th>Technicians and Trades Workers ;  Employed total ;</th>\n",
       "      <th>Community and Personal Service Workers ;  Employed total ;</th>\n",
       "      <th>Clerical and Administrative Workers ;  Employed total ;</th>\n",
       "      <th>overall_employed</th>\n",
       "      <th>Sales Workers ;  Employed total ;</th>\n",
       "      <th>Machinery Operators and Drivers ;  Employed total ;</th>\n",
       "      <th>Labourers ;  Employed total ;</th>\n",
       "      <th>Employed total ;</th>\n",
       "    </tr>\n",
       "  </thead>\n",
       "  <tbody>\n",
       "    <tr>\n",
       "      <td>0</td>\n",
       "      <td>2019-02-01</td>\n",
       "      <td>1530.858650</td>\n",
       "      <td>3117.254080</td>\n",
       "      <td>1813.087790</td>\n",
       "      <td>1387.819338</td>\n",
       "      <td>1772.903940</td>\n",
       "      <td>9621.923798</td>\n",
       "      <td>1105.465022</td>\n",
       "      <td>857.047137</td>\n",
       "      <td>1217.773230</td>\n",
       "      <td>12802.209187</td>\n",
       "    </tr>\n",
       "    <tr>\n",
       "      <td>1</td>\n",
       "      <td>2019-05-01</td>\n",
       "      <td>1530.382730</td>\n",
       "      <td>3132.760054</td>\n",
       "      <td>1815.948222</td>\n",
       "      <td>1428.121784</td>\n",
       "      <td>1756.363590</td>\n",
       "      <td>9663.576381</td>\n",
       "      <td>1110.549383</td>\n",
       "      <td>903.240592</td>\n",
       "      <td>1241.282051</td>\n",
       "      <td>12918.648408</td>\n",
       "    </tr>\n",
       "    <tr>\n",
       "      <td>2</td>\n",
       "      <td>2019-08-01</td>\n",
       "      <td>1524.281916</td>\n",
       "      <td>3193.229016</td>\n",
       "      <td>1786.216105</td>\n",
       "      <td>1406.417890</td>\n",
       "      <td>1747.133986</td>\n",
       "      <td>9657.278912</td>\n",
       "      <td>1086.902785</td>\n",
       "      <td>863.257463</td>\n",
       "      <td>1241.961735</td>\n",
       "      <td>12849.400895</td>\n",
       "    </tr>\n",
       "    <tr>\n",
       "      <td>3</td>\n",
       "      <td>2019-11-01</td>\n",
       "      <td>1546.148635</td>\n",
       "      <td>3199.985805</td>\n",
       "      <td>1809.887612</td>\n",
       "      <td>1406.457441</td>\n",
       "      <td>1800.699748</td>\n",
       "      <td>9763.179240</td>\n",
       "      <td>1106.734891</td>\n",
       "      <td>853.411972</td>\n",
       "      <td>1255.310469</td>\n",
       "      <td>12978.636572</td>\n",
       "    </tr>\n",
       "    <tr>\n",
       "      <td>4</td>\n",
       "      <td>2020-02-01</td>\n",
       "      <td>1624.541510</td>\n",
       "      <td>3208.930734</td>\n",
       "      <td>1803.434295</td>\n",
       "      <td>1430.792414</td>\n",
       "      <td>1747.875760</td>\n",
       "      <td>9815.574713</td>\n",
       "      <td>1128.799771</td>\n",
       "      <td>820.927032</td>\n",
       "      <td>1271.353244</td>\n",
       "      <td>13036.654760</td>\n",
       "    </tr>\n",
       "  </tbody>\n",
       "</table>\n",
       "</div>"
      ],
      "text/plain": [
       "        Date  Managers ;  Employed total ;  Professionals ;  Employed total ;  \\\n",
       "0 2019-02-01                   1530.858650                        3117.254080   \n",
       "1 2019-05-01                   1530.382730                        3132.760054   \n",
       "2 2019-08-01                   1524.281916                        3193.229016   \n",
       "3 2019-11-01                   1546.148635                        3199.985805   \n",
       "4 2020-02-01                   1624.541510                        3208.930734   \n",
       "\n",
       "   Technicians and Trades Workers ;  Employed total ;  \\\n",
       "0                                        1813.087790    \n",
       "1                                        1815.948222    \n",
       "2                                        1786.216105    \n",
       "3                                        1809.887612    \n",
       "4                                        1803.434295    \n",
       "\n",
       "   Community and Personal Service Workers ;  Employed total ;  \\\n",
       "0                                        1387.819338            \n",
       "1                                        1428.121784            \n",
       "2                                        1406.417890            \n",
       "3                                        1406.457441            \n",
       "4                                        1430.792414            \n",
       "\n",
       "   Clerical and Administrative Workers ;  Employed total ;  overall_employed  \\\n",
       "0                                        1772.903940             9621.923798   \n",
       "1                                        1756.363590             9663.576381   \n",
       "2                                        1747.133986             9657.278912   \n",
       "3                                        1800.699748             9763.179240   \n",
       "4                                        1747.875760             9815.574713   \n",
       "\n",
       "   Sales Workers ;  Employed total ;  \\\n",
       "0                        1105.465022   \n",
       "1                        1110.549383   \n",
       "2                        1086.902785   \n",
       "3                        1106.734891   \n",
       "4                        1128.799771   \n",
       "\n",
       "   Machinery Operators and Drivers ;  Employed total ;  \\\n",
       "0                                         857.047137     \n",
       "1                                         903.240592     \n",
       "2                                         863.257463     \n",
       "3                                         853.411972     \n",
       "4                                         820.927032     \n",
       "\n",
       "   Labourers ;  Employed total ;  Employed total ;  \n",
       "0                    1217.773230      12802.209187  \n",
       "1                    1241.282051      12918.648408  \n",
       "2                    1241.961735      12849.400895  \n",
       "3                    1255.310469      12978.636572  \n",
       "4                    1271.353244      13036.654760  "
      ]
     },
     "execution_count": 144,
     "metadata": {},
     "output_type": "execute_result"
    }
   ],
   "source": [
    "result.head()"
   ]
  },
  {
   "cell_type": "code",
   "execution_count": 147,
   "metadata": {},
   "outputs": [],
   "source": [
    "result=result.drop(['overall_employed'],axis=1,inplace=True)"
   ]
  },
  {
   "cell_type": "code",
   "execution_count": null,
   "metadata": {},
   "outputs": [],
   "source": []
  },
  {
   "cell_type": "code",
   "execution_count": null,
   "metadata": {},
   "outputs": [],
   "source": []
  }
 ],
 "metadata": {
  "kernelspec": {
   "display_name": "Python 3",
   "language": "python",
   "name": "python3"
  },
  "language_info": {
   "codemirror_mode": {
    "name": "ipython",
    "version": 3
   },
   "file_extension": ".py",
   "mimetype": "text/x-python",
   "name": "python",
   "nbconvert_exporter": "python",
   "pygments_lexer": "ipython3",
   "version": "3.7.4"
  }
 },
 "nbformat": 4,
 "nbformat_minor": 2
}
